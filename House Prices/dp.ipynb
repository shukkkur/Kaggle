{
 "cells": [
  {
   "cell_type": "code",
   "execution_count": 1,
   "id": "54e46103",
   "metadata": {},
   "outputs": [],
   "source": [
    "import pandas as pd\n",
    "import numpy as np\n",
    "import matplotlib.pyplot as plt\n",
    "import seaborn as sns \n",
    "\n",
    "%matplotlib inline"
   ]
  },
  {
   "cell_type": "code",
   "execution_count": 2,
   "id": "4ade178f",
   "metadata": {},
   "outputs": [],
   "source": [
    "housing = pd.read_csv('./data/train.csv')"
   ]
  },
  {
   "cell_type": "markdown",
   "id": "582c6ac3",
   "metadata": {},
   "source": [
    "## Deal With Missing Values"
   ]
  },
  {
   "cell_type": "code",
   "execution_count": 3,
   "id": "e86dcd3d",
   "metadata": {},
   "outputs": [
    {
     "data": {
      "text/plain": [
       "PoolQC         1453\n",
       "MiscFeature    1406\n",
       "Alley          1369\n",
       "Fence          1179\n",
       "FireplaceQu     690\n",
       "               ... \n",
       "ExterQual         0\n",
       "Exterior2nd       0\n",
       "Exterior1st       0\n",
       "RoofMatl          0\n",
       "SalePrice         0\n",
       "Length: 81, dtype: int64"
      ]
     },
     "execution_count": 3,
     "metadata": {},
     "output_type": "execute_result"
    }
   ],
   "source": [
    "housing.isnull().sum().sort_values(ascending=False)"
   ]
  },
  {
   "cell_type": "markdown",
   "id": "78f83d38",
   "metadata": {},
   "source": [
    "What should we do with all this missing data?\n",
    "\n",
    "- Get rid of the corresponding houses.\n",
    "-  Get rid of the whole attribute or remove the whole column.\n",
    "- Set the missing values to some value (zero, the mean, the median, etc.).\n"
   ]
  },
  {
   "cell_type": "code",
   "execution_count": 4,
   "id": "bd7b5088",
   "metadata": {},
   "outputs": [
    {
     "data": {
      "text/plain": [
       "0"
      ]
     },
     "execution_count": 4,
     "metadata": {},
     "output_type": "execute_result"
    }
   ],
   "source": [
    "# Imputing Missing Values\n",
    "housing_processed = housing\n",
    "\n",
    "# Categorical columns:\n",
    "cat_cols_fill_none = ['PoolQC', 'MiscFeature', 'Alley', 'Fence', 'FireplaceQu',\n",
    "                     'GarageCond', 'GarageQual', 'GarageFinish', 'GarageType',\n",
    "                     'BsmtFinType2', 'BsmtExposure', 'BsmtFinType1', 'BsmtQual', 'BsmtCond',\n",
    "                     'MasVnrType']\n",
    "\n",
    "# Replace missing values for categorical columns with None\n",
    "for cat in cat_cols_fill_none:\n",
    "    housing_processed[cat] = housing_processed[cat].fillna(\"None\")\n",
    "    \n",
    "# Group by neighborhood and fill in missing value by the median LotFrontage of all the neighborhood\n",
    "housing_processed['LotFrontage'] = housing_processed.groupby(\"Neighborhood\")[\"LotFrontage\"].transform(\n",
    "    lambda x: x.fillna(x.median()))    \n",
    "\n",
    "# Garage: GarageYrBlt, GarageArea and GarageCars these are numerical columns, replace with zero\n",
    "for col in ['GarageYrBlt', 'GarageArea', 'GarageCars']:\n",
    "    housing_processed[col] = housing_processed[col].fillna(int(0))\n",
    "    \n",
    "# MasVnrArea : replace with zero\n",
    "housing_processed['MasVnrArea'] = housing_processed['MasVnrArea'].fillna(int(0))\n",
    "\n",
    "# Use the mode value \n",
    "housing_processed['Electrical'] = housing_processed['Electrical'].fillna(housing_processed['Electrical']).mode()[0]\n",
    "\n",
    "# There is no need of Utilities so let's just drop this column\n",
    "housing_processed = housing_processed.drop(['Utilities'], axis=1)\n",
    "\n",
    "# Get the count again to verify that we do not have any more missing values\n",
    "housing_processed.isnull().apply(sum).max()"
   ]
  },
  {
   "cell_type": "markdown",
   "id": "070bf153",
   "metadata": {},
   "source": [
    "## Deal With Outliers"
   ]
  },
  {
   "cell_type": "code",
   "execution_count": 5,
   "id": "f52b7296",
   "metadata": {
    "collapsed": true
   },
   "outputs": [
    {
     "name": "stdout",
     "output_type": "stream",
     "text": [
      "<class 'pandas.core.frame.DataFrame'>\n",
      "Int64Index: 1421 entries, 0 to 1457\n",
      "Data columns (total 80 columns):\n",
      " #   Column         Non-Null Count  Dtype  \n",
      "---  ------         --------------  -----  \n",
      " 0   Id             1421 non-null   int64  \n",
      " 1   MSSubClass     1421 non-null   int64  \n",
      " 2   MSZoning       1421 non-null   object \n",
      " 3   LotFrontage    1421 non-null   float64\n",
      " 4   LotArea        1421 non-null   int64  \n",
      " 5   Street         1421 non-null   object \n",
      " 6   Alley          1421 non-null   object \n",
      " 7   LotShape       1421 non-null   object \n",
      " 8   LandContour    1421 non-null   object \n",
      " 9   LotConfig      1421 non-null   object \n",
      " 10  LandSlope      1421 non-null   object \n",
      " 11  Neighborhood   1421 non-null   object \n",
      " 12  Condition1     1421 non-null   object \n",
      " 13  Condition2     1421 non-null   object \n",
      " 14  BldgType       1421 non-null   object \n",
      " 15  HouseStyle     1421 non-null   object \n",
      " 16  OverallQual    1421 non-null   int64  \n",
      " 17  OverallCond    1421 non-null   int64  \n",
      " 18  YearBuilt      1421 non-null   int64  \n",
      " 19  YearRemodAdd   1421 non-null   int64  \n",
      " 20  RoofStyle      1421 non-null   object \n",
      " 21  RoofMatl       1421 non-null   object \n",
      " 22  Exterior1st    1421 non-null   object \n",
      " 23  Exterior2nd    1421 non-null   object \n",
      " 24  MasVnrType     1421 non-null   object \n",
      " 25  MasVnrArea     1421 non-null   float64\n",
      " 26  ExterQual      1421 non-null   object \n",
      " 27  ExterCond      1421 non-null   object \n",
      " 28  Foundation     1421 non-null   object \n",
      " 29  BsmtQual       1421 non-null   object \n",
      " 30  BsmtCond       1421 non-null   object \n",
      " 31  BsmtExposure   1421 non-null   object \n",
      " 32  BsmtFinType1   1421 non-null   object \n",
      " 33  BsmtFinSF1     1421 non-null   int64  \n",
      " 34  BsmtFinType2   1421 non-null   object \n",
      " 35  BsmtFinSF2     1421 non-null   int64  \n",
      " 36  BsmtUnfSF      1421 non-null   int64  \n",
      " 37  TotalBsmtSF    1421 non-null   int64  \n",
      " 38  Heating        1421 non-null   object \n",
      " 39  HeatingQC      1421 non-null   object \n",
      " 40  CentralAir     1421 non-null   object \n",
      " 41  Electrical     1421 non-null   object \n",
      " 42  1stFlrSF       1421 non-null   int64  \n",
      " 43  2ndFlrSF       1421 non-null   int64  \n",
      " 44  LowQualFinSF   1421 non-null   int64  \n",
      " 45  GrLivArea      1421 non-null   int64  \n",
      " 46  BsmtFullBath   1421 non-null   int64  \n",
      " 47  BsmtHalfBath   1421 non-null   int64  \n",
      " 48  FullBath       1421 non-null   int64  \n",
      " 49  HalfBath       1421 non-null   int64  \n",
      " 50  BedroomAbvGr   1421 non-null   int64  \n",
      " 51  KitchenAbvGr   1421 non-null   int64  \n",
      " 52  KitchenQual    1421 non-null   object \n",
      " 53  TotRmsAbvGrd   1421 non-null   int64  \n",
      " 54  Functional     1421 non-null   object \n",
      " 55  Fireplaces     1421 non-null   int64  \n",
      " 56  FireplaceQu    1421 non-null   object \n",
      " 57  GarageType     1421 non-null   object \n",
      " 58  GarageYrBlt    1421 non-null   float64\n",
      " 59  GarageFinish   1421 non-null   object \n",
      " 60  GarageCars     1421 non-null   int64  \n",
      " 61  GarageArea     1421 non-null   int64  \n",
      " 62  GarageQual     1421 non-null   object \n",
      " 63  GarageCond     1421 non-null   object \n",
      " 64  PavedDrive     1421 non-null   object \n",
      " 65  WoodDeckSF     1421 non-null   int64  \n",
      " 66  OpenPorchSF    1421 non-null   int64  \n",
      " 67  EnclosedPorch  1421 non-null   int64  \n",
      " 68  3SsnPorch      1421 non-null   int64  \n",
      " 69  ScreenPorch    1421 non-null   int64  \n",
      " 70  PoolArea       1421 non-null   int64  \n",
      " 71  PoolQC         1421 non-null   object \n",
      " 72  Fence          1421 non-null   object \n",
      " 73  MiscFeature    1421 non-null   object \n",
      " 74  MiscVal        1421 non-null   int64  \n",
      " 75  MoSold         1421 non-null   int64  \n",
      " 76  YrSold         1421 non-null   int64  \n",
      " 77  SaleType       1421 non-null   object \n",
      " 78  SaleCondition  1421 non-null   object \n",
      " 79  SalePrice      1421 non-null   int64  \n",
      "dtypes: float64(3), int64(35), object(42)\n",
      "memory usage: 899.2+ KB\n"
     ]
    }
   ],
   "source": [
    "num_attributes = housing_processed.select_dtypes(exclude='object')\n",
    "\n",
    "high_quant = housing_processed.quantile(.999)\n",
    "\n",
    "for i in num_attributes.columns:\n",
    "    housing_processed = housing_processed.drop(housing_processed[i][housing_processed[i]>high_quant[i]].index)\n",
    "\n",
    "housing_processed.info()"
   ]
  },
  {
   "cell_type": "markdown",
   "id": "78b822a2",
   "metadata": {},
   "source": [
    "## Deal With Correlated Attributes"
   ]
  },
  {
   "cell_type": "code",
   "execution_count": 6,
   "id": "f38f07f3",
   "metadata": {},
   "outputs": [],
   "source": [
    "#### Remove highly correlated features\n",
    "# Remove attributes that were identified for excluding when viewing scatter plots & corr values\n",
    "attributes_drop = ['MiscVal', 'MoSold', 'YrSold', 'BsmtFinSF2','BsmtHalfBath','MSSubClass',\n",
    "                   'GarageArea', 'GarageYrBlt', '3SsnPorch']\n",
    "\n",
    "housing_processed = housing_processed.drop(attributes_drop, axis=1)"
   ]
  },
  {
   "cell_type": "markdown",
   "id": "62f2cb81",
   "metadata": {},
   "source": [
    "## Handle Text And Categorical Attributes"
   ]
  },
  {
   "cell_type": "code",
   "execution_count": 7,
   "id": "6753c6db",
   "metadata": {},
   "outputs": [
    {
     "data": {
      "text/plain": [
       "<1421x8750 sparse matrix of type '<class 'numpy.float64'>'\n",
       "\twith 100891 stored elements in Compressed Sparse Row format>"
      ]
     },
     "execution_count": 7,
     "metadata": {},
     "output_type": "execute_result"
    }
   ],
   "source": [
    "#### Transforming Cat variables\n",
    "from sklearn.preprocessing import OneHotEncoder\n",
    "\n",
    "cat_encoder = OneHotEncoder()\n",
    "housing_processed_1hot = cat_encoder.fit_transform(housing_processed)\n",
    "housing_processed_1hot"
   ]
  },
  {
   "cell_type": "markdown",
   "id": "e29b5a8b",
   "metadata": {},
   "source": [
    "## Feature Scaling"
   ]
  },
  {
   "cell_type": "markdown",
   "id": "81081173",
   "metadata": {},
   "source": [
    "- Min-max scaling (also known as normalization) `MinMaxScaler `\n",
    "- Standardization `StandardScaler`"
   ]
  }
 ],
 "metadata": {
  "kernelspec": {
   "display_name": "Python 3 (ipykernel)",
   "language": "python",
   "name": "python3"
  },
  "language_info": {
   "codemirror_mode": {
    "name": "ipython",
    "version": 3
   },
   "file_extension": ".py",
   "mimetype": "text/x-python",
   "name": "python",
   "nbconvert_exporter": "python",
   "pygments_lexer": "ipython3",
   "version": "3.10.2"
  }
 },
 "nbformat": 4,
 "nbformat_minor": 5
}
